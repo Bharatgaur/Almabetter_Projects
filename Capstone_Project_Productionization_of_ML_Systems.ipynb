{
  "nbformat": 4,
  "nbformat_minor": 0,
  "metadata": {
    "colab": {
      "provenance": [],
      "authorship_tag": "ABX9TyO8sqR7MzHAkVgmkDbfXoeT",
      "include_colab_link": true
    },
    "kernelspec": {
      "name": "python3",
      "display_name": "Python 3"
    },
    "language_info": {
      "name": "python"
    }
  },
  "cells": [
    {
      "cell_type": "markdown",
      "metadata": {
        "id": "view-in-github",
        "colab_type": "text"
      },
      "source": [
        "<a href=\"https://colab.research.google.com/github/Bharatgaur/Almabetter_Projects/blob/main/Capstone_Project_Productionization_of_ML_Systems.ipynb\" target=\"_parent\"><img src=\"https://colab.research.google.com/assets/colab-badge.svg\" alt=\"Open In Colab\"/></a>"
      ]
    },
    {
      "cell_type": "markdown",
      "source": [
        "# **Capstone Project: Productionization of ML Systems**"
      ],
      "metadata": {
        "id": "693RgqBdXpqe"
      }
    },
    {
      "cell_type": "markdown",
      "source": [
        "**Import Required Libraries**\n",
        "\n",
        "**Start with importing libraries for data analysis, visualization, and machine learning.**"
      ],
      "metadata": {
        "id": "Y3TDCttUX2Y9"
      }
    },
    {
      "cell_type": "code",
      "execution_count": 2,
      "metadata": {
        "id": "TwFRTFR7Xg1t"
      },
      "outputs": [],
      "source": [
        "import pandas as pd\n",
        "import numpy as np\n",
        "import matplotlib.pyplot as plt\n",
        "import seaborn as sns\n",
        "from sklearn.model_selection import train_test_split\n",
        "from sklearn.preprocessing import StandardScaler\n",
        "from sklearn.ensemble import RandomForestRegressor\n",
        "from sklearn.metrics import mean_squared_error\n",
        "#import mlflow"
      ]
    },
    {
      "cell_type": "markdown",
      "source": [
        "**Load the Datasets**\n",
        "\n",
        "**Load the three datasets: users, flights, and hotels.**"
      ],
      "metadata": {
        "id": "O4f97T9bYO1c"
      }
    },
    {
      "cell_type": "code",
      "source": [],
      "metadata": {
        "id": "9NX9HsOJXyXv"
      },
      "execution_count": null,
      "outputs": []
    }
  ]
}