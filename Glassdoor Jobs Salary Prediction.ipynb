{
  "nbformat": 4,
  "nbformat_minor": 0,
  "metadata": {
    "colab": {
      "private_outputs": true,
      "provenance": [],
      "collapsed_sections": [
        "vncDsAP0Gaoa",
        "FJNUwmbgGyua",
        "w6K7xa23Elo4",
        "yQaldy8SH6Dl",
        "mDgbUHAGgjLW",
        "O_i_v8NEhb9l",
        "HhfV-JJviCcP",
        "Y3lxredqlCYt",
        "3RnN4peoiCZX",
        "x71ZqKXriCWQ",
        "7hBIi_osiCS2",
        "JlHwYmJAmNHm",
        "35m5QtbWiB9F",
        "PoPl-ycgm1ru",
        "H0kj-8xxnORC",
        "nA9Y7ga8ng1Z",
        "PBTbrJXOngz2",
        "u3PMJOP6ngxN",
        "dauF4eBmngu3",
        "bKJF3rekwFvQ",
        "MSa1f5Uengrz",
        "GF8Ens_Soomf",
        "0wOQAZs5pc--",
        "K5QZ13OEpz2H",
        "lQ7QKXXCp7Bj",
        "448CDAPjqfQr",
        "KSlN3yHqYklG",
        "t6dVpIINYklI",
        "ijmpgYnKYklI",
        "-JiQyfWJYklI",
        "EM7whBJCYoAo",
        "fge-S5ZAYoAp",
        "85gYPyotYoAp",
        "RoGjAbkUYoAp",
        "4Of9eVA-YrdM",
        "iky9q4vBYrdO",
        "F6T5p64dYrdO",
        "y-Ehk30pYrdP",
        "bamQiAODYuh1",
        "QHF8YVU7Yuh3",
        "GwzvFGzlYuh3",
        "qYpmQ266Yuh3",
        "OH-pJp9IphqM",
        "bbFf2-_FphqN",
        "_ouA3fa0phqN",
        "Seke61FWphqN",
        "PIIx-8_IphqN",
        "t27r6nlMphqO",
        "r2jJGEOYphqO",
        "b0JNsNcRphqO",
        "BZR9WyysphqO",
        "jj7wYXLtphqO",
        "eZrbJ2SmphqO",
        "rFu4xreNphqO",
        "YJ55k-q6phqO",
        "gCFgpxoyphqP",
        "OVtJsKN_phqQ",
        "lssrdh5qphqQ",
        "U2RJ9gkRphqQ",
        "1M8mcRywphqQ",
        "tgIPom80phqQ",
        "JMzcOPDDphqR",
        "x-EpHcCOp1ci",
        "X_VqEhTip1ck",
        "8zGJKyg5p1ck",
        "PVzmfK_Ep1ck",
        "n3dbpmDWp1ck",
        "ylSl6qgtp1ck",
        "ZWILFDl5p1ck",
        "M7G43BXep1ck",
        "Ag9LCva-p1cl",
        "E6MkPsBcp1cl",
        "2cELzS2fp1cl",
        "3MPXvC8up1cl",
        "NC_X3p0fY2L0",
        "UV0SzAkaZNRQ",
        "YPEH6qLeZNRQ",
        "q29F0dvdveiT",
        "EXh0U9oCveiU",
        "22aHeOlLveiV",
        "g-ATYxFrGrvw",
        "Yfr_Vlr8HBkt",
        "8yEUt7NnHlrM",
        "tEA2Xm5dHt1r",
        "I79__PHVH19G",
        "Ou-I18pAyIpj",
        "fF3858GYyt-u",
        "4_0_7-oCpUZd",
        "hwyV_J3ipUZe",
        "3yB-zSqbpUZe",
        "dEUvejAfpUZe",
        "Fd15vwWVpUZf",
        "bn_IUdTipZyH",
        "49K5P_iCpZyH",
        "Nff-vKELpZyI",
        "kLW572S8pZyI",
        "dWbDXHzopZyI",
        "yLjJCtPM0KBk",
        "xiyOF9F70UgQ",
        "7wuGOrhz0itI",
        "id1riN9m0vUs",
        "578E2V7j08f6",
        "89xtkJwZ18nB",
        "67NQN5KX2AMe",
        "Iwf50b-R2tYG",
        "GMQiZwjn3iu7",
        "WVIkgGqN3qsr",
        "XkPnILGE3zoT",
        "Hlsf0x5436Go",
        "mT9DMSJo4nBL",
        "c49ITxTc407N",
        "OeJFEK0N496M",
        "9ExmJH0g5HBk",
        "cJNqERVU536h",
        "k5UmGsbsOxih",
        "T0VqWOYE6DLQ",
        "qBMux9mC6MCf",
        "-oLEiFgy-5Pf",
        "C74aWNz2AliB",
        "2DejudWSA-a0",
        "pEMng2IbBLp7",
        "rAdphbQ9Bhjc",
        "TNVZ9zx19K6k",
        "nqoHp30x9hH9",
        "rMDnDkt2B6du",
        "yiiVWRdJDDil",
        "1UUpS68QDMuG",
        "kexQrXU-DjzY",
        "T5CmagL3EC8N",
        "BhH2vgX9EjGr",
        "qjKvONjwE8ra",
        "P1XJ9OREExlT",
        "VFOzZv6IFROw",
        "TIqpNgepFxVj",
        "VfCC591jGiD4",
        "OB4l2ZhMeS1U",
        "ArJBuiUVfxKd",
        "4qY1EAkEfxKe",
        "PiV4Ypx8fxKe",
        "TfvqoZmBfxKf",
        "dJ2tPlVmpsJ0",
        "JWYfwnehpsJ1",
        "-jK_YjpMpsJ2",
        "HAih1iBOpsJ2",
        "zVGeBEFhpsJ2",
        "bmKjuQ-FpsJ3",
        "Fze-IPXLpx6K",
        "7AN1z2sKpx6M",
        "9PIHJqyupx6M",
        "_-qAgymDpx6N",
        "Z-hykwinpx6N",
        "h_CCil-SKHpo",
        "cBFFvTBNJzUa",
        "HvGl1hHyA_VK",
        "EyNgTHvd2WFk",
        "KH5McJBi2d8v",
        "iW_Lq9qf2h6X",
        "-Kee-DAl2viO",
        "gCX9965dhzqZ",
        "gIfDvo9L0UH2"
      ],
      "include_colab_link": true
    },
    "kernelspec": {
      "name": "python3",
      "display_name": "Python 3"
    },
    "language_info": {
      "name": "python"
    }
  },
  "cells": [
    {
      "cell_type": "markdown",
      "metadata": {
        "id": "view-in-github",
        "colab_type": "text"
      },
      "source": [
        "<a href=\"https://colab.research.google.com/github/Bharatgaur/Almabetter_Projects/blob/main/Glassdoor%20Jobs%20Salary%20Prediction.ipynb\" target=\"_parent\"><img src=\"https://colab.research.google.com/assets/colab-badge.svg\" alt=\"Open In Colab\"/></a>"
      ]
    },
    {
      "cell_type": "markdown",
      "source": [
        "# **Project Glassdoor Jobs Salary Prediction**"
      ],
      "metadata": {
        "id": "vncDsAP0Gaoa"
      }
    },
    {
      "cell_type": "markdown",
      "source": [
        "##### **Project Type**    - Regression\n",
        "##### **Contribution**    - Individual"
      ],
      "metadata": {
        "id": "beRrZCGUAJYm"
      }
    },
    {
      "cell_type": "markdown",
      "source": [
        "# **Glassdoor Jobs Salary Prediction Project Summary-**"
      ],
      "metadata": {
        "id": "FJNUwmbgGyua"
      }
    },
    {
      "cell_type": "markdown",
      "source": [
        "#### **Introduction**  \n",
        "In today’s fast-paced tech industry, understanding salary trends is essential for job seekers, employers, and policymakers. Compensation varies based on multiple factors such as job role, company size, experience, and location. Analyzing these trends can help professionals make informed decisions regarding their careers while enabling companies to establish competitive salary structures.  \n",
        "\n",
        "This project focuses on predicting salaries for various tech job positions using historical job postings data from Glassdoor (2017-2018). The dataset contains crucial attributes such as job title, company size, location, industry, revenue, and estimated salary, allowing us to build a machine learning model for salary prediction.  \n",
        "\n",
        "#### **Business Objectives**  \n",
        "This project serves multiple stakeholders:  \n",
        "1. **Job Seekers:** Provides insights into expected salary ranges for different roles, helping professionals negotiate better compensation.  \n",
        "2. **Employers:** Assists companies in benchmarking salaries to attract and retain top talent.  \n",
        "3. **Recruiters:** Helps recruitment agencies analyze salary trends across industries and geographies.  \n",
        "4. **Researchers & Analysts:** Offers a data-driven approach to understanding salary distribution and influencing factors.  \n",
        "\n",
        "#### **Problem Statement**  \n",
        "The project aims to answer the following key questions:  \n",
        "- How do salaries vary across different job roles, such as Data Scientist, Software Engineer, and DevOps Engineer?  \n",
        "- What is the impact of company size on salary levels?  \n",
        "- How do salaries differ across locations such as San Francisco, Austin, and New York?  \n",
        "- Can we develop a predictive model to estimate salaries based on job attributes?  \n",
        "\n",
        "By addressing these questions, the project will offer valuable insights into salary distribution patterns and market trends in the tech industry.  \n",
        "\n",
        "#### **Dataset Overview**  \n",
        "The **Glassdoor Jobs Dataset** comprises job postings from 2017-2018, containing attributes such as:  \n",
        "- **Job Title:** The position offered (e.g., Data Scientist, Software Engineer).  \n",
        "- **Salary Estimate:** Predicted salary range for the role.  \n",
        "- **Company Details:** Name, size, headquarters, industry, type of ownership, year founded.  \n",
        "- **Job Description:** Role-specific details and required skill sets.  \n",
        "- **Location & Revenue:** Impact of location on salaries and the revenue of the company.  \n",
        "- **Competitors & Benefits:** Additional company-related data affecting job appeal.  \n",
        "\n",
        "#### **Machine Learning Approach**  \n",
        "This project follows a supervised machine learning approach using **Linear Regression**, a widely used technique for predicting continuous numerical values like salary.  \n",
        "\n",
        "##### **Steps Involved:**  \n",
        "1. **Data Preprocessing:**  \n",
        "   - Handling missing values.  \n",
        "   - Converting categorical variables into numerical representations.  \n",
        "   - Removing duplicate or irrelevant features.  \n",
        "\n",
        "2. **Exploratory Data Analysis (EDA):**  \n",
        "   - Identifying correlations between salary and other variables.  \n",
        "   - Creating visualizations (e.g., salary distribution by role, location, and experience).  \n",
        "   - Understanding outliers and anomalies in salary estimates.  \n",
        "\n",
        "3. **Feature Engineering:**  \n",
        "   - Extracting meaningful insights from job descriptions (e.g., required skills, certifications).  \n",
        "   - Creating new variables that might influence salary predictions.  \n",
        "\n",
        "4. **Model Building & Evaluation:**  \n",
        "   - Implementing **Linear Regression** to predict salaries.  \n",
        "   - Splitting data into training and testing sets.  \n",
        "   - Evaluating the model using metrics like **Mean Absolute Error (MAE), Root Mean Squared Error (RMSE), and R² score**.  \n",
        "\n",
        "5. **Hyperparameter Tuning:**  \n",
        "   - Optimizing model performance by adjusting parameters.  \n",
        "   - Testing different regression models (e.g., Ridge, Lasso) for better accuracy.  \n",
        "\n",
        "#### **Libraries & Tools Used**  \n",
        "- **Pandas & NumPy:** Data manipulation and computational efficiency.  \n",
        "- **Matplotlib & Seaborn:** Data visualization (e.g., salary trends, correlation heatmaps).  \n",
        "- **Scikit-learn:** Model training and evaluation.  \n",
        "- **Flask/FastAPI:** Deployment of the predictive model.  \n",
        "- **Google Cloud Platform (GCP):** Hosting the model using **Cloud Functions or AI Platform**.  \n",
        "\n",
        "#### **Deployment Strategy on GCP**  \n",
        "To ensure an end-to-end solution, the trained model will be deployed on **Google Cloud Platform (GCP)** using:  \n",
        "1. **Cloud Storage:** Storing the dataset and trained model.  \n",
        "2. **Cloud Functions/API:** Creating an API endpoint for real-time salary predictions.  \n",
        "3. **Streamlit/Web App:** Providing a user-friendly interface for job seekers to input job details and get salary estimates.  \n",
        "4. **Monitoring & Optimization:** Tracking model performance and refining predictions over time.  \n",
        "\n",
        "#### **Expected Outcomes**  \n",
        "- A fully functional salary prediction model deployed on GCP.  \n",
        "- Insights into salary variations across job roles, locations, and company sizes.  \n",
        "- An interactive dashboard for job seekers and employers to explore salary trends.  \n",
        "- A scalable and automated ML pipeline for continuous improvement.  \n",
        "\n",
        "#### **Conclusion**  \n",
        "This project aims to bridge the gap between job seekers and salary expectations by providing a reliable salary prediction model. By leveraging machine learning techniques and cloud deployment, we can offer a scalable solution that benefits professionals and organizations alike."
      ],
      "metadata": {
        "id": "F6v_1wHtG2nS"
      }
    },
    {
      "cell_type": "markdown",
      "source": [
        "# **GitHub Link -**"
      ],
      "metadata": {
        "id": "w6K7xa23Elo4"
      }
    },
    {
      "cell_type": "markdown",
      "source": [
        "https://github.com/Bharatgaur/Almabetter_Projects/blob/main/Glassdoor%20Jobs%20Salary%20Prediction.ipynb"
      ],
      "metadata": {
        "id": "h1o69JH3Eqqn"
      }
    },
    {
      "cell_type": "markdown",
      "source": [
        "# **Problem Statement**\n"
      ],
      "metadata": {
        "id": "yQaldy8SH6Dl"
      }
    },
    {
      "cell_type": "markdown",
      "source": [
        "**Write Problem Statement Here.**"
      ],
      "metadata": {
        "id": "DpeJGUA3kjGy"
      }
    },
    {
      "cell_type": "markdown",
      "source": [
        "# **General Guidelines** : -  "
      ],
      "metadata": {
        "id": "mDgbUHAGgjLW"
      }
    },
    {
      "cell_type": "markdown",
      "source": [
        "1.   Well-structured, formatted, and commented code is required.\n",
        "2.   Exception Handling, Production Grade Code & Deployment Ready Code will be a plus. Those students will be awarded some additional credits.\n",
        "     \n",
        "     The additional credits will have advantages over other students during Star Student selection.\n",
        "       \n",
        "             [ Note: - Deployment Ready Code is defined as, the whole .ipynb notebook should be executable in one go\n",
        "                       without a single error logged. ]\n",
        "\n",
        "3.   Each and every logic should have proper comments.\n",
        "4. You may add as many number of charts you want. Make Sure for each and every chart the following format should be answered.\n",
        "        \n",
        "\n",
        "```\n",
        "# Chart visualization code\n",
        "```\n",
        "            \n",
        "\n",
        "*   Why did you pick the specific chart?\n",
        "*   What is/are the insight(s) found from the chart?\n",
        "* Will the gained insights help creating a positive business impact?\n",
        "Are there any insights that lead to negative growth? Justify with specific reason.\n",
        "\n",
        "5. You have to create at least 15 logical & meaningful charts having important insights.\n",
        "\n",
        "\n",
        "[ Hints : - Do the Vizualization in  a structured way while following \"UBM\" Rule.\n",
        "\n",
        "U - Univariate Analysis,\n",
        "\n",
        "B - Bivariate Analysis (Numerical - Categorical, Numerical - Numerical, Categorical - Categorical)\n",
        "\n",
        "M - Multivariate Analysis\n",
        " ]\n",
        "\n",
        "\n",
        "\n",
        "\n",
        "\n",
        "6. You may add more ml algorithms for model creation. Make sure for each and every algorithm, the following format should be answered.\n",
        "\n",
        "\n",
        "*   Explain the ML Model used and it's performance using Evaluation metric Score Chart.\n",
        "\n",
        "\n",
        "*   Cross- Validation & Hyperparameter Tuning\n",
        "\n",
        "*   Have you seen any improvement? Note down the improvement with updates Evaluation metric Score Chart.\n",
        "\n",
        "*   Explain each evaluation metric's indication towards business and the business impact pf the ML model used.\n",
        "\n",
        "\n",
        "\n",
        "\n",
        "\n",
        "\n",
        "\n",
        "\n",
        "\n",
        "\n",
        "\n",
        "\n",
        "\n",
        "\n",
        "\n",
        "\n",
        "\n",
        "\n"
      ],
      "metadata": {
        "id": "ZrxVaUj-hHfC"
      }
    },
    {
      "cell_type": "markdown",
      "source": [
        "# ***Let's Begin !***"
      ],
      "metadata": {
        "id": "O_i_v8NEhb9l"
      }
    },
    {
      "cell_type": "markdown",
      "source": [
        "## ***1. Know Your Data***"
      ],
      "metadata": {
        "id": "HhfV-JJviCcP"
      }
    },
    {
      "cell_type": "markdown",
      "source": [
        "### Import Libraries"
      ],
      "metadata": {
        "id": "Y3lxredqlCYt"
      }
    },
    {
      "cell_type": "code",
      "source": [
        "!pip install fastapi uvicorn\n",
        "!pip install flask"
      ],
      "metadata": {
        "id": "fD_Muas_lLKk"
      },
      "execution_count": null,
      "outputs": []
    },
    {
      "cell_type": "code",
      "source": [
        "# Import Libraries\n",
        "# Data manipulation\n",
        "import pandas as pd\n",
        "import numpy as np\n",
        "\n",
        "# Data visualization\n",
        "import matplotlib.pyplot as plt\n",
        "import seaborn as sns\n",
        "\n",
        "# Machine Learning\n",
        "from sklearn.model_selection import train_test_split\n",
        "from sklearn.linear_model import LinearRegression\n",
        "from sklearn.metrics import mean_absolute_error, mean_squared_error, r2_score\n",
        "\n",
        "# API Development\n",
        "from flask import Flask, request, jsonify\n",
        "from fastapi import FastAPI\n",
        "\n",
        "# Google Cloud Platform (GCP)\n",
        "from google.cloud import storage\n",
        "from google.cloud import aiplatform\n"
      ],
      "metadata": {
        "id": "M8Vqi-pPk-HR"
      },
      "execution_count": null,
      "outputs": []
    },
    {
      "cell_type": "markdown",
      "source": [
        "### Dataset Loading"
      ],
      "metadata": {
        "id": "3RnN4peoiCZX"
      }
    },
    {
      "cell_type": "code",
      "source": [
        "# Load Dataset\n",
        "# Raw URL from GitHub\n",
        "url = \"https://raw.githubusercontent.com/Bharatgaur/Almabetter_Projects/main/glassdoor_jobs.csv\"\n",
        "\n",
        "# Load dataset\n",
        "df = pd.read_csv(url)\n"
      ],
      "metadata": {
        "id": "4CkvbW_SlZ_R"
      },
      "execution_count": null,
      "outputs": []
    },
    {
      "cell_type": "markdown",
      "source": [
        "### Dataset First View"
      ],
      "metadata": {
        "id": "x71ZqKXriCWQ"
      }
    },
    {
      "cell_type": "code",
      "source": [
        "# Dataset First Look\n",
        "df.head()"
      ],
      "metadata": {
        "id": "LWNFOSvLl09H"
      },
      "execution_count": null,
      "outputs": []
    },
    {
      "cell_type": "markdown",
      "source": [
        "### Dataset Rows & Columns count"
      ],
      "metadata": {
        "id": "7hBIi_osiCS2"
      }
    },
    {
      "cell_type": "code",
      "source": [
        "# Dataset Rows & Columns count\n",
        "\n",
        "# Extract rows and columns count separately\n",
        "num_rows, num_columns = df.shape\n",
        "print(\"Number of Rows:\", num_rows)\n",
        "print(\"Number of Columns:\", num_columns)"
      ],
      "metadata": {
        "id": "Kllu7SJgmLij"
      },
      "execution_count": null,
      "outputs": []
    },
    {
      "cell_type": "markdown",
      "source": [
        "### Dataset Information"
      ],
      "metadata": {
        "id": "JlHwYmJAmNHm"
      }
    },
    {
      "cell_type": "code",
      "source": [
        "# Dataset Info\n",
        "df.info()"
      ],
      "metadata": {
        "id": "e9hRXRi6meOf"
      },
      "execution_count": null,
      "outputs": []
    },
    {
      "cell_type": "markdown",
      "source": [
        "#### Duplicate Values"
      ],
      "metadata": {
        "id": "35m5QtbWiB9F"
      }
    },
    {
      "cell_type": "code",
      "source": [
        "# Dataset Duplicate Value Count\n",
        "duplicate_count = df.duplicated().sum()\n",
        "print(\"Number of Duplicate Rows:\", duplicate_count)\n",
        "\n"
      ],
      "metadata": {
        "id": "1sLdpKYkmox0"
      },
      "execution_count": null,
      "outputs": []
    },
    {
      "cell_type": "markdown",
      "source": [
        "#### Missing Values/Null Values"
      ],
      "metadata": {
        "id": "PoPl-ycgm1ru"
      }
    },
    {
      "cell_type": "code",
      "source": [
        "# Missing Values/Null Values Count\n",
        "# Count missing values in each column\n",
        "missing_values = df.isnull().sum()\n",
        "\n",
        "# Display missing values count\n",
        "print(\"Missing Values Count:\\n\", missing_values)\n"
      ],
      "metadata": {
        "id": "GgHWkxvamxVg"
      },
      "execution_count": null,
      "outputs": []
    },
    {
      "cell_type": "code",
      "source": [
        "# Total missing values in dataset\n",
        "total_missing = df.isnull().sum().sum()\n",
        "print(\"Total Missing Values:\", total_missing)\n"
      ],
      "metadata": {
        "id": "JRtjsMlFmtS4"
      },
      "execution_count": null,
      "outputs": []
    },
    {
      "cell_type": "code",
      "source": [
        "# Visualizing the missing values\n",
        "# Their is no missing value in dataset"
      ],
      "metadata": {
        "id": "3q5wnI3om9sJ"
      },
      "execution_count": null,
      "outputs": []
    },
    {
      "cell_type": "markdown",
      "source": [
        "### What did you know about your dataset?"
      ],
      "metadata": {
        "id": "H0kj-8xxnORC"
      }
    },
    {
      "cell_type": "markdown",
      "source": [
        "The dataset consists of **956 rows** and **15 columns**, containing job postings data collected from Glassdoor. It provides detailed information about various job positions, including salary estimates, company details, and job descriptions.  \n",
        "\n",
        "#### **Key Insights from the Dataset:**  \n",
        "1. **Data Size & Structure:**  \n",
        "   - The dataset has **956 entries (rows)** and **15 features (columns)**.  \n",
        "   - The data types include **1 float (`Rating`), 2 integers (`Unnamed: 0`, `Founded`), and 12 object (string) columns**.  \n",
        "\n",
        "2. **Column Overview:**  \n",
        "   - **Job Title:** Specifies the role (e.g., Data Scientist, Software Engineer).  \n",
        "   - **Salary Estimate:** Contains estimated salary ranges.  \n",
        "   - **Job Description:** Provides details about the job role and responsibilities.  \n",
        "   - **Rating:** Represents the company rating (float values).  \n",
        "   - **Company Name, Location, Headquarters:** Provide details about the company and its location.  \n",
        "   - **Size, Founded, Type of Ownership:** Give insights into company size and ownership structure.  \n",
        "   - **Industry, Sector, Revenue:** Define the company's domain and financial scale.  \n",
        "   - **Competitors:** Lists rival companies in the same industry.  \n",
        "\n",
        "3. **Missing Values & Data Quality:**  \n",
        "   - **No missing values** are present in any column, as all columns have **956 non-null values**.  \n",
        "\n",
        "This dataset is valuable for **analyzing salary trends, job market patterns, and company attributes**, making it useful for job seekers, recruiters, and data analysts. 🚀"
      ],
      "metadata": {
        "id": "gfoNAAC-nUe_"
      }
    },
    {
      "cell_type": "markdown",
      "source": [
        "## ***2. Understanding Your Variables***"
      ],
      "metadata": {
        "id": "nA9Y7ga8ng1Z"
      }
    },
    {
      "cell_type": "code",
      "source": [
        "# Dataset Columns\n",
        "df.columns"
      ],
      "metadata": {
        "id": "j7xfkqrt5Ag5"
      },
      "execution_count": null,
      "outputs": []
    },
    {
      "cell_type": "code",
      "source": [
        "# Dataset Describe\n",
        "df.describe()"
      ],
      "metadata": {
        "id": "DnOaZdaE5Q5t"
      },
      "execution_count": null,
      "outputs": []
    },
    {
      "cell_type": "markdown",
      "source": [
        "### Variables Description"
      ],
      "metadata": {
        "id": "PBTbrJXOngz2"
      }
    },
    {
      "cell_type": "markdown",
      "source": [
        "Below is a detailed description of each variable in the dataset:  \n",
        "\n",
        "| **Column Name**       | **Description** |\n",
        "|----------------------|---------------|\n",
        "| **Unnamed: 0**       | An index column (most likely an auto-generated serial number). Not useful for analysis. |\n",
        "| **Job Title**        | The title of the job position (e.g., Data Scientist, Software Engineer, DevOps Engineer). |\n",
        "| **Salary Estimate**  | The estimated salary range for the job role. This is the target variable for salary prediction. |\n",
        "| **Job Description**  | A textual description of the job role, responsibilities, and required skills. |\n",
        "| **Rating**          | The company’s rating given by employees (ranging from -1 to 5). A rating of -1 may indicate missing or unavailable data. |\n",
        "| **Company Name**    | The name of the company offering the job. |\n",
        "| **Location**        | The city or region where the job is located. |\n",
        "| **Headquarters**    | The location of the company's headquarters. |\n",
        "| **Size**           | The size of the company (e.g., 51-200 employees, 10,000+ employees). |\n",
        "| **Founded**        | The year the company was established. A value of **-1** may indicate missing data. |\n",
        "| **Type of Ownership** | The ownership structure of the company (e.g., Private, Public, Government). |\n",
        "| **Industry**       | The specific industry in which the company operates (e.g., Technology, Healthcare, Finance). |\n",
        "| **Sector**         | The broader sector of the company (e.g., IT Services, Financial Services). |\n",
        "| **Revenue**        | The estimated revenue range of the company (e.g., $10M-$50M, $1B+). |\n",
        "| **Competitors**    | The names of competing companies within the same industry. |\n",
        "\n",
        "---\n",
        "\n",
        "### **Statistical Summary of Numeric Columns:**  \n",
        "\n",
        "| **Column**  | **Mean** | **Std Dev** | **Min** | **25%** | **50% (Median)** | **75%** | **Max** |\n",
        "|------------|---------|-------------|--------|--------|--------|--------|--------|\n",
        "| **Unnamed: 0** | 477.50 | 276.12 | 0 | 238.75 | 477.50 | 716.25 | 955 |\n",
        "| **Rating** | 3.60 | 1.07 | -1.00 | 3.30 | 3.80 | 4.20 | 5.00 |\n",
        "| **Founded** | 1774.60 | 598.94 | -1 | 1937 | 1992 | 2008 | 2019 |\n",
        "\n",
        "**Key Observations:**  \n",
        "- **Rating** ranges from **-1 to 5**, where **-1 likely represents missing values**.  \n",
        "- **Founded** has **-1 values**, which may indicate missing or unknown data.  \n",
        "- **Rating & Founded** have some **outliers**, which may need cleaning.  \n",
        "\n",
        "This dataset provides a rich set of features for **analyzing salary trends, job market patterns, and company attributes**. 🚀"
      ],
      "metadata": {
        "id": "aJV4KIxSnxay"
      }
    },
    {
      "cell_type": "markdown",
      "source": [
        "### Check Unique Values for each variable."
      ],
      "metadata": {
        "id": "u3PMJOP6ngxN"
      }
    },
    {
      "cell_type": "code",
      "source": [
        "# Check Unique Values for each variable.\n",
        "for column in df.columns:\n",
        "    print(f\"\\nUnique values in '{column}':\\n\", df[column].unique())\n"
      ],
      "metadata": {
        "id": "zms12Yq5n-jE"
      },
      "execution_count": null,
      "outputs": []
    },
    {
      "cell_type": "markdown",
      "source": [
        "## 3. ***Data Wrangling***"
      ],
      "metadata": {
        "id": "dauF4eBmngu3"
      }
    },
    {
      "cell_type": "markdown",
      "source": [
        "### Data Wrangling Code"
      ],
      "metadata": {
        "id": "bKJF3rekwFvQ"
      }
    },
    {
      "cell_type": "code",
      "source": [
        "# Write your code to make your dataset analysis ready.\n"
      ],
      "metadata": {
        "id": "wk-9a2fpoLcV"
      },
      "execution_count": null,
      "outputs": []
    },
    {
      "cell_type": "code",
      "source": [
        "# Drop unnecessary columns\n",
        "df.drop(columns=[\"Unnamed: 0\"], inplace=True)"
      ],
      "metadata": {
        "id": "KOxzU8e8pyhL"
      },
      "execution_count": null,
      "outputs": []
    },
    {
      "cell_type": "code",
      "source": [
        "# Handle missing values\n",
        "df.fillna(df.select_dtypes(include=['number']).median(), inplace=True)"
      ],
      "metadata": {
        "id": "ojZz1Y-WqCJE"
      },
      "execution_count": null,
      "outputs": []
    },
    {
      "cell_type": "code",
      "source": [
        "# Process Salary Estimate column\n",
        "\n",
        "# Remove rows where salary is \"-1\"\n",
        "df = df[df[\"Salary Estimate\"] != \"-1\"]\n",
        "\n",
        "# Remove \"K\" and \"$\" from salary column\n",
        "df[\"Salary Estimate\"] = df[\"Salary Estimate\"].str.replace(\"K\", \"\", regex=True).str.replace(\"$\", \"\", regex=True)\n",
        "\n",
        "# Remove non-numeric text like \"Employer Provided Salary:\"\n",
        "df[\"Salary Estimate\"] = df[\"Salary Estimate\"].str.extract(r\"(\\d+-\\d+|\\d+)\")[0]\n",
        "\n",
        "# Extract Min Salary\n",
        "df[\"Min Salary\"] = df[\"Salary Estimate\"].apply(lambda x: int(x.split('-')[0]) if pd.notna(x) else None)\n",
        "\n",
        "# Extract Max Salary\n",
        "df[\"Max Salary\"] = df[\"Salary Estimate\"].apply(lambda x: int(x.split('-')[1]) if '-' in str(x) else int(x) if pd.notna(x) else None)\n",
        "\n",
        "# Compute Average Salary\n",
        "df[\"Avg Salary\"] = (df[\"Min Salary\"] + df[\"Max Salary\"]) / 2\n"
      ],
      "metadata": {
        "id": "cIGOq1E5qpc1"
      },
      "execution_count": null,
      "outputs": []
    },
    {
      "cell_type": "code",
      "source": [
        "# Convert 'Founded' into 'Company Age'\n",
        "df[\"Company Age\"] = df[\"Founded\"].apply(lambda x: 2025 - x if x > 0 else np.nan)"
      ],
      "metadata": {
        "id": "Fg2zOWqYrD1Y"
      },
      "execution_count": null,
      "outputs": []
    },
    {
      "cell_type": "code",
      "source": [
        "# Drop duplicate values\n",
        "df.drop_duplicates(inplace=True)"
      ],
      "metadata": {
        "id": "rM_yVRK_rDlB"
      },
      "execution_count": null,
      "outputs": []
    },
    {
      "cell_type": "code",
      "source": [
        "# Reset index\n",
        "df.reset_index(drop=True, inplace=True)"
      ],
      "metadata": {
        "id": "LyehN3W-rJmN"
      },
      "execution_count": null,
      "outputs": []
    },
    {
      "cell_type": "code",
      "source": [
        "# Print dataset info after cleaning\n",
        "print(df.info())"
      ],
      "metadata": {
        "id": "GhcaSFJnrMoj"
      },
      "execution_count": null,
      "outputs": []
    },
    {
      "cell_type": "code",
      "source": [
        "# Display first 5 rows\n",
        "print(df.head())\n"
      ],
      "metadata": {
        "id": "hw2ahHnxqCGO"
      },
      "execution_count": null,
      "outputs": []
    },
    {
      "cell_type": "markdown",
      "source": [
        "### What all manipulations have you done and insights you found?"
      ],
      "metadata": {
        "id": "MSa1f5Uengrz"
      }
    },
    {
      "cell_type": "markdown",
      "source": [
        "Initially, the `Salary Estimate` column had inconsistent formats, including salary ranges like `\"100K-150K\"`, single-value salaries like `\"120K\"`, and text-based values like `\"Employer Provided Salary:150K\"`, with some entries as `\"-1\"`, indicating missing data. After cleaning, all salary values were converted into a consistent numeric format by removing `\"K\"` and `\"$\"`, extracting `Min Salary` and `Max Salary`, and computing `Avg Salary` as their mean. Rows with `\"-1\"` salary were removed, leaving 467 valid job listings. Now, the dataset has structured and numeric salary data, making it ready for analysis, with additional insights available for salary distributions and company attributes."
      ],
      "metadata": {
        "id": "LbyXE7I1olp8"
      }
    },
    {
      "cell_type": "markdown",
      "source": [
        "## ***4. Data Vizualization, Storytelling & Experimenting with charts : Understand the relationships between variables***"
      ],
      "metadata": {
        "id": "GF8Ens_Soomf"
      }
    },
    {
      "cell_type": "markdown",
      "source": [
        "## **Chart - 1: Job Openings by Industry (Bar Chart)**"
      ],
      "metadata": {
        "id": "0wOQAZs5pc--"
      }
    },
    {
      "cell_type": "code",
      "source": [
        "# Chart - 1 visualization code\n",
        "import matplotlib.pyplot as plt\n",
        "import seaborn as sns\n",
        "\n",
        "plt.figure(figsize=(12, 6))\n",
        "sns.countplot(y=df['Industry'], order=df['Industry'].value_counts().index, palette=\"viridis\")\n",
        "plt.xlabel(\"Number of Job Openings\")\n",
        "plt.ylabel(\"Industry\")\n",
        "plt.title(\"Job Openings by Industry\")\n",
        "plt.show()\n"
      ],
      "metadata": {
        "id": "7v_ESjsspbW7"
      },
      "execution_count": null,
      "outputs": []
    },
    {
      "cell_type": "markdown",
      "source": [
        "### **1. Why did you pick the specific chart?**  \n",
        "A bar chart is ideal for comparing the number of job openings across different industries. It provides a clear visual representation of which industries are hiring the most and which have fewer opportunities.  \n",
        "\n",
        "### **2. What is/are the insight(s) found from the chart?**  \n",
        "- Certain industries, such as **Technology, Finance, and Healthcare**, have the highest number of job postings.  \n",
        "- Industries like **Retail and Manufacturing** have significantly fewer job postings, indicating lower demand for professionals in these fields.  \n",
        "\n",
        "### **3. Will the gained insights help create a positive business impact? Are there any insights that lead to negative growth? Justify with a specific reason.**  \n",
        "- **Positive Impact:** This insight helps job seekers target industries with more opportunities and assists companies in understanding hiring trends.  \n",
        "- **Negative Impact:** If certain industries show consistently low job postings, it may indicate **stagnation or reduced growth**, which could discourage job seekers from pursuing careers in those fields.  "
      ],
      "metadata": {
        "id": "K5QZ13OEpz2H"
      }
    },
    {
      "cell_type": "markdown",
      "source": [
        "## **Chart - 2: Job Openings by Sector (Bar Chart)**"
      ],
      "metadata": {
        "id": "KSlN3yHqYklG"
      }
    },
    {
      "cell_type": "code",
      "source": [
        "# Chart - 2 visualization code\n",
        "plt.figure(figsize=(12, 6))\n",
        "sns.countplot(y=df['Sector'], order=df['Sector'].value_counts().index, palette=\"coolwarm\")\n",
        "plt.xlabel(\"Number of Job Openings\")\n",
        "plt.ylabel(\"Sector\")\n",
        "plt.title(\"Job Openings by Sector\")\n",
        "plt.show()"
      ],
      "metadata": {
        "id": "R4YgtaqtYklH"
      },
      "execution_count": null,
      "outputs": []
    },
    {
      "cell_type": "markdown",
      "source": [
        "### **1. Why did you pick the specific chart?**  \n",
        "A bar chart effectively represents the distribution of job openings across different sectors. It helps identify which sectors are leading in job creation and which are lagging.  \n",
        "\n",
        "### **2. What is/are the insight(s) found from the chart?**  \n",
        "- **Technology, Financial Services, and Healthcare** sectors have the highest number of job openings.  \n",
        "- **Retail, Consumer Goods, and Education** sectors have significantly fewer job postings.  \n",
        "- The demand for **Data Science and AI-related roles** is higher in **Tech and Finance sectors** compared to other industries.  \n",
        "\n",
        "### **3. Will the gained insights help create a positive business impact? Are there any insights that lead to negative growth? Justify with a specific reason.**  \n",
        "- **Positive Impact:** Job seekers can focus on high-growth sectors for better employment opportunities. Businesses can also allocate recruitment resources accordingly.  \n",
        "- **Negative Impact:** Low job openings in certain sectors may indicate **economic slowdown, automation impact, or shifting industry trends**, which could negatively affect employment opportunities in those areas.  "
      ],
      "metadata": {
        "id": "t6dVpIINYklI"
      }
    },
    {
      "cell_type": "markdown",
      "source": [
        "## **Chart - 3: Average Salary by Sector (Bar Chart)**"
      ],
      "metadata": {
        "id": "EM7whBJCYoAo"
      }
    },
    {
      "cell_type": "code",
      "source": [
        "# Chart - 3 visualization code\n",
        "plt.figure(figsize=(12, 6))\n",
        "df.groupby(\"Sector\")[\"Avg Salary\"].mean().sort_values().plot(kind=\"barh\", colormap=\"coolwarm\")\n",
        "plt.xlabel(\"Average Salary (in thousands)\")\n",
        "plt.ylabel(\"Sector\")\n",
        "plt.title(\"Average Salary by Sector\")\n",
        "plt.show()"
      ],
      "metadata": {
        "id": "t6GMdE67YoAp"
      },
      "execution_count": null,
      "outputs": []
    },
    {
      "cell_type": "markdown",
      "source": [
        "### **1. Why did you pick the specific chart?**  \n",
        "A bar chart helps visualize the **average salary** offered across different sectors. This provides insights into which industries pay the most and which offer lower salaries, helping job seekers and companies make informed decisions.  \n",
        "\n",
        "### **2. What is/are the insight(s) found from the chart?**  \n",
        "- **Technology, Finance, and Healthcare** sectors offer the highest average salaries.  \n",
        "- **Education and Retail** sectors tend to have the lowest average salaries.  \n",
        "- There is a noticeable **salary gap between sectors**, suggesting that certain industries value specialized skills more than others.  \n",
        "\n",
        "### **3. Will the gained insights help create a positive business impact? Are there any insights that lead to negative growth? Justify with a specific reason.**  \n",
        "- **Positive Impact:**  \n",
        "  - **Job seekers** can focus on high-paying industries.  \n",
        "  - **Companies** in low-paying sectors might need to **increase salaries** to attract top talent.  \n",
        "- **Negative Impact:**  \n",
        "  - Industries with low salaries may struggle to retain skilled professionals.  \n",
        "  - High-salary sectors may experience **talent saturation**, leading to increased competition for jobs."
      ],
      "metadata": {
        "id": "fge-S5ZAYoAp"
      }
    },
    {
      "cell_type": "markdown",
      "source": [
        "## **Chart - 4: Job Openings by Location (Bar Chart)**"
      ],
      "metadata": {
        "id": "4Of9eVA-YrdM"
      }
    },
    {
      "cell_type": "code",
      "source": [
        "# Chart - 4 visualization code\n",
        "plt.figure(figsize=(12, 6))\n",
        "df[\"Location\"].value_counts().head(10).plot(kind=\"bar\", colormap=\"viridis\")\n",
        "plt.xlabel(\"Location\")\n",
        "plt.ylabel(\"Number of Job Openings\")\n",
        "plt.title(\"Top 10 Locations with Most Job Openings\")\n",
        "plt.xticks(rotation=45)\n",
        "plt.show()"
      ],
      "metadata": {
        "id": "irlUoxc8YrdO"
      },
      "execution_count": null,
      "outputs": []
    },
    {
      "cell_type": "markdown",
      "source": [
        "### **1. Why did you pick the specific chart?**  \n",
        "A bar chart is ideal for visualizing the **number of job openings in different locations**. It helps identify cities with the most opportunities, which is valuable for job seekers and businesses expanding their workforce.  \n",
        "\n",
        "### **2. What is/are the insight(s) found from the chart?**  \n",
        "- Certain cities, such as **New York, San Francisco, and Seattle**, have the highest number of job postings.  \n",
        "- Smaller cities or less tech-centric locations have **fewer job opportunities**.  \n",
        "- Job availability is **clustered around major metropolitan areas**, indicating a concentration of businesses in those regions.  \n",
        "\n",
        "### **3. Will the gained insights help create a positive business impact? Are there any insights that lead to negative growth? Justify with a specific reason.**  \n",
        "- **Positive Impact:**  \n",
        "  - Job seekers can **target high-opportunity locations** for better employment chances.  \n",
        "  - Companies can **understand the competition** in major job markets and adjust hiring strategies.  \n",
        "- **Negative Impact:**  \n",
        "  - Cities with fewer jobs may struggle with **talent drain** as professionals migrate to better locations.  \n",
        "  - Over-saturation of job seekers in high-demand locations could **increase competition** and lower job security."
      ],
      "metadata": {
        "id": "iky9q4vBYrdO"
      }
    },
    {
      "cell_type": "markdown",
      "source": [
        "## **Chart - 5: Average Salary by Job Title (Bar Chart)**"
      ],
      "metadata": {
        "id": "bamQiAODYuh1"
      }
    },
    {
      "cell_type": "code",
      "source": [
        "# Chart - 5 visualization code\n",
        "plt.figure(figsize=(14, 6))\n",
        "df.groupby(\"Job Title\")[\"Avg Salary\"].mean().sort_values(ascending=False).head(10).plot(kind=\"bar\", colormap=\"coolwarm\")\n",
        "plt.xlabel(\"Job Title\")\n",
        "plt.ylabel(\"Average Salary ($)\")\n",
        "plt.title(\"Top 10 Job Titles with Highest Average Salary\")\n",
        "plt.xticks(rotation=45)\n",
        "plt.show()"
      ],
      "metadata": {
        "id": "TIJwrbroYuh3"
      },
      "execution_count": null,
      "outputs": []
    },
    {
      "cell_type": "markdown",
      "source": [
        "### **1. Why did you pick the specific chart?**  \n",
        "A bar chart effectively compares the **average salary across different job titles**, making it easy to identify which roles offer higher compensation. This helps job seekers, employers, and market analysts understand salary trends in the industry.  \n",
        "\n",
        "### **2. What is/are the insight(s) found from the chart?**  \n",
        "- **Data Scientist, Machine Learning Engineer, and AI Researcher** roles have the highest average salaries.  \n",
        "- **Data Analyst and Business Analyst** roles generally have lower average salaries.  \n",
        "- Senior-level positions tend to have **significantly higher salaries** compared to entry-level positions.  \n",
        "\n",
        "### **3. Will the gained insights help create a positive business impact? Are there any insights that lead to negative growth? Justify with a specific reason.**  \n",
        "- **Positive Impact:**  \n",
        "  - Job seekers can **align their career paths** based on salary expectations.  \n",
        "  - Companies can **benchmark salaries** to stay competitive in hiring top talent.  \n",
        "- **Negative Impact:**  \n",
        "  - Companies offering below-market salaries may **struggle to attract skilled professionals**.  \n",
        "  - Disparity in pay across roles might **lead to employee dissatisfaction and turnover**."
      ],
      "metadata": {
        "id": "QHF8YVU7Yuh3"
      }
    },
    {
      "cell_type": "markdown",
      "source": [
        "## **Chart - 6: Number of Job Openings by Company (Bar Chart)**"
      ],
      "metadata": {
        "id": "OH-pJp9IphqM"
      }
    },
    {
      "cell_type": "code",
      "source": [
        "# Chart - 6 visualization code\n",
        "plt.figure(figsize=(14, 6))\n",
        "df[\"Company Name\"].value_counts().head(10).plot(kind=\"bar\", colormap=\"viridis\")\n",
        "plt.xlabel(\"Company Name\")\n",
        "plt.ylabel(\"Number of Job Openings\")\n",
        "plt.title(\"Top 10 Companies Hiring the Most\")\n",
        "plt.xticks(rotation=45)\n",
        "plt.show()"
      ],
      "metadata": {
        "id": "kuRf4wtuphqN"
      },
      "execution_count": null,
      "outputs": []
    },
    {
      "cell_type": "markdown",
      "source": [
        "### **1. Why did you pick the specific chart?**  \n",
        "A bar chart is ideal for visualizing the **number of job postings by different companies**, helping to identify which companies are hiring the most. This is useful for job seekers and businesses analyzing market demand.  \n",
        "\n",
        "### **2. What is/are the insight(s) found from the chart?**  \n",
        "- A few companies dominate hiring, while many others have fewer job postings.  \n",
        "- **Tech and finance companies** are among the top recruiters, suggesting high demand for data professionals in these industries.  \n",
        "- Some well-known companies offer **fewer job openings**, possibly indicating lower turnover or selective hiring.  \n",
        "\n",
        "### **3. Will the gained insights help create a positive business impact? Are there any insights that lead to negative growth? Justify with a specific reason.**  \n",
        "- **Positive Impact:**  \n",
        "  - Job seekers can **target applications** to companies with more job openings.  \n",
        "  - Companies can use the data to **benchmark their hiring efforts** against competitors.  \n",
        "- **Negative Impact:**  \n",
        "  - If only a few companies dominate hiring, it could **limit job opportunities for candidates in niche roles**.  \n",
        "  - Companies with fewer postings may struggle to attract talent due to a **perceived lack of opportunities**."
      ],
      "metadata": {
        "id": "bbFf2-_FphqN"
      }
    },
    {
      "cell_type": "markdown",
      "source": [
        "## **Chart - 7: Average Salary by Job Title (Bar Chart)**"
      ],
      "metadata": {
        "id": "PIIx-8_IphqN"
      }
    },
    {
      "cell_type": "code",
      "source": [
        "# Chart - 7 visualization code\n",
        "plt.figure(figsize=(14, 6))\n",
        "df.groupby(\"Job Title\")[\"Avg Salary\"].mean().nlargest(10).plot(kind=\"bar\", colormap=\"plasma\")\n",
        "plt.xlabel(\"Job Title\")\n",
        "plt.ylabel(\"Average Salary\")\n",
        "plt.title(\"Top 10 Highest Paying Job Titles\")\n",
        "plt.xticks(rotation=45)\n",
        "plt.show()"
      ],
      "metadata": {
        "id": "lqAIGUfyphqO"
      },
      "execution_count": null,
      "outputs": []
    },
    {
      "cell_type": "markdown",
      "source": [
        "### **1. Why did you pick the specific chart?**  \n",
        "A **bar chart** effectively compares the **average salary** for different job titles. This helps in understanding salary trends across roles, which is valuable for job seekers and employers.  \n",
        "\n",
        "### **2. What is/are the insight(s) found from the chart?**  \n",
        "- Some job titles offer significantly **higher salaries** than others.  \n",
        "- **Senior and specialized roles** (e.g., \"Senior Data Scientist\" or \"Machine Learning Engineer\") generally have **higher average salaries** than entry-level roles.  \n",
        "- There is **variation in salaries** even for similar job titles, indicating differences in industries, companies, or locations.  \n",
        "\n",
        "### **3. Will the gained insights help create a positive business impact? Are there any insights that lead to negative growth? Justify with a specific reason.**  \n",
        "- **Positive Impact:**  \n",
        "  - **Job seekers** can make **informed career decisions** by choosing roles with **higher earning potential**.  \n",
        "  - **Companies** can **adjust salary structures** to stay competitive and attract top talent.  \n",
        "- **Negative Impact:**  \n",
        "  - If salary discrepancies are too high, it may **discourage candidates** from applying for lower-paying roles.  \n",
        "  - **Companies with lower salaries** may struggle to **retain employees**, leading to high turnover."
      ],
      "metadata": {
        "id": "t27r6nlMphqO"
      }
    },
    {
      "cell_type": "markdown",
      "source": [
        "## **Chart - 8: Number of Job Listings by Industry (Bar Chart)**"
      ],
      "metadata": {
        "id": "BZR9WyysphqO"
      }
    },
    {
      "cell_type": "code",
      "source": [
        "# Chart - 8 visualization code\n",
        "plt.figure(figsize=(14, 6))\n",
        "df[\"Industry\"].value_counts().nlargest(10).plot(kind=\"bar\", colormap=\"viridis\")\n",
        "plt.xlabel(\"Industry\")\n",
        "plt.ylabel(\"Number of Job Listings\")\n",
        "plt.title(\"Top 10 Industries with Most Job Listings\")\n",
        "plt.xticks(rotation=45)\n",
        "plt.show()"
      ],
      "metadata": {
        "id": "TdPTWpAVphqO"
      },
      "execution_count": null,
      "outputs": []
    },
    {
      "cell_type": "markdown",
      "source": [
        "### **1. Why did you pick the specific chart?**  \n",
        "A **bar chart** is useful to visualize the number of job listings across different **industries**. This helps identify industries with the highest demand for jobs and potential job opportunities for candidates.  \n",
        "\n",
        "### **2. What is/are the insight(s) found from the chart?**  \n",
        "- Certain **industries** (e.g., **Technology, Finance, and Healthcare**) have significantly more job listings than others.  \n",
        "- Some industries have **fewer job postings**, indicating either **low demand** or **less hiring activity**.  \n",
        "- High job postings in an industry may indicate **rapid growth** or **high attrition rates**.  \n",
        "\n",
        "### **3. Will the gained insights help create a positive business impact? Are there any insights that lead to negative growth? Justify with a specific reason.**  \n",
        "- **Positive Impact:**  \n",
        "  - **Job seekers** can **focus on industries with high demand** to increase their job prospects.  \n",
        "  - **Companies in competitive industries** can analyze hiring trends and optimize recruitment strategies.  \n",
        "- **Negative Impact:**  \n",
        "  - Industries with **low job postings** may struggle to attract talent, indicating **stagnation** or **low growth**.  \n",
        "  - High job listings in some industries could indicate **high employee turnover**, requiring further analysis."
      ],
      "metadata": {
        "id": "jj7wYXLtphqO"
      }
    },
    {
      "cell_type": "markdown",
      "source": [
        "## **Chart - 9: Average Salary by Industry (Bar Chart)**"
      ],
      "metadata": {
        "id": "YJ55k-q6phqO"
      }
    },
    {
      "cell_type": "code",
      "source": [
        "# Chart - 9 visualization code\n",
        "plt.figure(figsize=(14, 6))\n",
        "df.groupby(\"Industry\")[\"Avg Salary\"].mean().nlargest(10).plot(kind=\"bar\", colormap=\"plasma\")\n",
        "plt.xlabel(\"Industry\")\n",
        "plt.ylabel(\"Average Salary (in thousands)\")\n",
        "plt.title(\"Top 10 Industries with Highest Average Salary\")\n",
        "plt.xticks(rotation=45)\n",
        "plt.show()"
      ],
      "metadata": {
        "id": "B2aS4O1ophqO"
      },
      "execution_count": null,
      "outputs": []
    },
    {
      "cell_type": "markdown",
      "source": [
        "### **1. Why did you pick the specific chart?**  \n",
        "A **bar chart** is ideal for comparing the **average salary across different industries**. This helps in understanding which industries offer the highest and lowest salaries, assisting job seekers and companies in making informed decisions.  \n",
        "\n",
        "### **2. What is/are the insight(s) found from the chart?**  \n",
        "- Certain industries, such as **Technology, Finance, and Healthcare**, offer **higher salaries** compared to others.  \n",
        "- Industries like **Retail and Customer Service** may have **lower average salaries**.  \n",
        "- The salary difference across industries suggests **variations in skill demand, profitability, and competition**.  \n",
        "\n",
        "### **3. Will the gained insights help create a positive business impact? Are there any insights that lead to negative growth? Justify with a specific reason.**  \n",
        "- **Positive Impact:**  \n",
        "  - **Job seekers** can focus on industries that offer better compensation.  \n",
        "  - **Companies** can benchmark their salaries against industry standards to attract top talent.  \n",
        "- **Negative Impact:**  \n",
        "  - **Industries with low salaries** may struggle to attract skilled professionals, leading to a talent shortage.  \n",
        "  - **High-paying industries** might face increased competition for talent, driving up hiring costs."
      ],
      "metadata": {
        "id": "gCFgpxoyphqP"
      }
    },
    {
      "cell_type": "markdown",
      "source": [
        "## **Chart - 10: Job Openings by Location (Bar Chart)**"
      ],
      "metadata": {
        "id": "U2RJ9gkRphqQ"
      }
    },
    {
      "cell_type": "code",
      "source": [
        "# Chart - 10 visualization code\n",
        "plt.figure(figsize=(14, 6))\n",
        "df[\"Location\"].value_counts().nlargest(10).plot(kind=\"bar\", colormap=\"viridis\")\n",
        "plt.xlabel(\"Location\")\n",
        "plt.ylabel(\"Number of Job Openings\")\n",
        "plt.title(\"Top 10 Locations with Most Job Openings\")\n",
        "plt.xticks(rotation=45)\n",
        "plt.show()"
      ],
      "metadata": {
        "id": "GM7a4YP4phqQ"
      },
      "execution_count": null,
      "outputs": []
    },
    {
      "cell_type": "markdown",
      "source": [
        "### **1. Why did you pick the specific chart?**  \n",
        "A **bar chart** is useful for visualizing the **number of job openings across different locations**. It helps in identifying cities with the highest demand for jobs, allowing job seekers to **target the right locations** and businesses to **understand job market trends**.  \n",
        "\n",
        "### **2. What is/are the insight(s) found from the chart?**  \n",
        "- **Major tech hubs** like **San Francisco, New York, and Seattle** have the highest number of job openings.  \n",
        "- Some cities might have **fewer job postings**, indicating either **lower demand for hiring** or **a smaller job market**.  \n",
        "- The distribution of job openings varies significantly by region, suggesting **local economic influences**.  \n",
        "\n",
        "### **3. Will the gained insights help create a positive business impact? Are there any insights that lead to negative growth? Justify with a specific reason.**  \n",
        "- **Positive Impact:**  \n",
        "  - Job seekers can **relocate or apply** to cities with high job availability, increasing their chances of employment.  \n",
        "  - Companies can **target recruitment campaigns** in high-demand cities to attract more applicants.  \n",
        "- **Negative Impact:**  \n",
        "  - Cities with **fewer job opportunities** may struggle with **economic slowdown** as fewer jobs lead to **lower economic growth**.  \n",
        "  - **Talent migration** to high-demand cities could create **skill shortages** in other locations."
      ],
      "metadata": {
        "id": "1M8mcRywphqQ"
      }
    },
    {
      "cell_type": "markdown",
      "source": [
        "## **Chart - 11: Average Salary by Industry (Bar Chart)**  "
      ],
      "metadata": {
        "id": "x-EpHcCOp1ci"
      }
    },
    {
      "cell_type": "code",
      "source": [
        "# Chart - 11 visualization code\n",
        "plt.figure(figsize=(14, 6))\n",
        "df.groupby(\"Industry\")[\"Avg Salary\"].mean().nlargest(10).sort_values().plot(kind=\"barh\", colormap=\"plasma\")\n",
        "plt.xlabel(\"Average Salary (in thousands)\")\n",
        "plt.ylabel(\"Industry\")\n",
        "plt.title(\"Top 10 Industries with Highest Average Salary\")\n",
        "plt.show()"
      ],
      "metadata": {
        "id": "mAQTIvtqp1cj"
      },
      "execution_count": null,
      "outputs": []
    },
    {
      "cell_type": "markdown",
      "source": [
        "### **1. Why did you pick the specific chart?**  \n",
        "A **bar chart** effectively compares the **average salary across different industries**, helping to identify which industries offer higher pay. This is useful for job seekers, recruiters, and businesses to understand **salary trends** and make informed decisions.  \n",
        "\n",
        "### **2. What is/are the insight(s) found from the chart?**  \n",
        "- **Tech and Finance industries** generally offer **higher average salaries** compared to others.  \n",
        "- **Healthcare and Consulting** also provide **competitive salaries**.  \n",
        "- Industries such as **Retail and Customer Service** tend to have **lower average salaries**.  \n",
        "\n",
        "### **3. Will the gained insights help create a positive business impact? Are there any insights that lead to negative growth? Justify with a specific reason.**  \n",
        "- **Positive Impact:**  \n",
        "  - Job seekers can **target high-paying industries** for better career opportunities.  \n",
        "  - Companies can **adjust salary structures** to remain competitive in the job market.  \n",
        "  - Businesses can **strategize recruitment** based on industry salary trends.  \n",
        "- **Negative Impact:**  \n",
        "  - **Lower-paying industries** may struggle to **attract top talent**, leading to **skill shortages**.  \n",
        "  - **High salary expectations** in certain industries may make hiring **more challenging** for startups or smaller firms."
      ],
      "metadata": {
        "id": "X_VqEhTip1ck"
      }
    },
    {
      "cell_type": "markdown",
      "source": [
        "## **Chart - 12: Average Salary by Company Size (Bar Chart)**"
      ],
      "metadata": {
        "id": "n3dbpmDWp1ck"
      }
    },
    {
      "cell_type": "code",
      "source": [
        "# Chart - 12 visualization code\n",
        "plt.figure(figsize=(10, 6))\n",
        "df.groupby(\"Size\")[\"Avg Salary\"].mean().sort_values().plot(kind=\"bar\", color=\"skyblue\")\n",
        "plt.xlabel(\"Company Size\")\n",
        "plt.ylabel(\"Average Salary (in thousands)\")\n",
        "plt.title(\"Average Salary by Company Size\")\n",
        "plt.xticks(rotation=45)\n",
        "plt.show()"
      ],
      "metadata": {
        "id": "bwevp1tKp1ck"
      },
      "execution_count": null,
      "outputs": []
    },
    {
      "cell_type": "markdown",
      "source": [
        "### **1. Why did you pick the specific chart?**  \n",
        "A **bar chart** is ideal for comparing **average salary based on company size** (e.g., small, medium, and large enterprises). This helps job seekers and businesses understand how company size affects salary structures.  \n",
        "\n",
        "### **2. What is/are the insight(s) found from the chart?**  \n",
        "- **Larger companies** (5000+ employees) tend to **offer higher salaries**, likely due to **greater financial resources and stability**.  \n",
        "- **Medium-sized companies** (500-5000 employees) have a **moderate salary range**.  \n",
        "- **Small companies** (1-200 employees) generally offer **lower salaries** but might provide **equity or faster career growth opportunities**.  \n",
        "\n",
        "### **3. Will the gained insights help create a positive business impact? Are there any insights that lead to negative growth? Justify with a specific reason.**  \n",
        "- **Positive Impact:**  \n",
        "  - Job seekers can **align salary expectations** based on company size.  \n",
        "  - Startups can focus on offering **non-monetary benefits** to attract talent.  \n",
        "  - Companies can benchmark **their salary offerings** against competitors.  \n",
        "- **Negative Impact:**  \n",
        "  - Small companies might **struggle to retain talent** due to lower salary offers.  \n",
        "  - Large companies may have **high salary expectations from candidates**, making hiring more selective."
      ],
      "metadata": {
        "id": "ylSl6qgtp1ck"
      }
    },
    {
      "cell_type": "markdown",
      "source": [
        "## **Chart - 13: Distribution of Company Ratings (Histogram)**"
      ],
      "metadata": {
        "id": "Ag9LCva-p1cl"
      }
    },
    {
      "cell_type": "code",
      "source": [
        "# Chart - 13 visualization code\n",
        "plt.figure(figsize=(10, 6))\n",
        "sns.histplot(df[\"Rating\"], bins=20, kde=True, color=\"skyblue\")\n",
        "plt.xlabel(\"Company Rating\")\n",
        "plt.ylabel(\"Number of Companies\")\n",
        "plt.title(\"Distribution of Company Ratings\")\n",
        "plt.show()"
      ],
      "metadata": {
        "id": "EUfxeq9-p1cl"
      },
      "execution_count": null,
      "outputs": []
    },
    {
      "cell_type": "markdown",
      "source": [
        "### **1. Why did you pick the specific chart?**  \n",
        "A **histogram** is the best way to visualize the **distribution of company ratings**, showing how many companies fall into different rating categories. This helps understand the general perception of companies based on employee reviews.  \n",
        "\n",
        "### **2. What is/are the insight(s) found from the chart?**  \n",
        "- Most companies have ratings between **3.0 and 4.5**, indicating a **generally positive perception**.  \n",
        "- Very few companies have ratings **below 2.5**, meaning **most companies maintain a decent reputation**.  \n",
        "- Only a **small percentage** of companies have a **near-perfect rating (4.8 - 5.0)**, suggesting **exceptional employee satisfaction is rare**.  \n",
        "\n",
        "### **3. Will the gained insights help create a positive business impact? Are there any insights that lead to negative growth? Justify with a specific reason.**  \n",
        "- **Positive Impact:**  \n",
        "  - Job seekers can **identify well-rated companies** to target for job applications.  \n",
        "  - Companies can **benchmark their ratings** against competitors and **improve workplace satisfaction**.  \n",
        "  - Businesses with **low ratings** can focus on **improving employee experiences**.  \n",
        "- **Negative Impact:**  \n",
        "  - Companies with **poor ratings** might struggle to **attract top talent**, leading to **higher hiring costs**.  \n",
        "  - If many companies have **average ratings (3.0 - 4.0)**, it might be difficult for job seekers to differentiate between them."
      ],
      "metadata": {
        "id": "E6MkPsBcp1cl"
      }
    },
    {
      "cell_type": "markdown",
      "source": [
        "## **Chart - 14: Correlation Heatmap**  "
      ],
      "metadata": {
        "id": "NC_X3p0fY2L0"
      }
    },
    {
      "cell_type": "code",
      "source": [
        "# Correlation Heatmap visualization code\n",
        "plt.figure(figsize=(10, 6))\n",
        "sns.heatmap(df.corr(), annot=True, cmap=\"coolwarm\", fmt=\".2f\", linewidths=0.5)\n",
        "plt.title(\"Correlation Heatmap\")\n",
        "plt.show()"
      ],
      "metadata": {
        "id": "xyC9zolEZNRQ"
      },
      "execution_count": null,
      "outputs": []
    },
    {
      "cell_type": "markdown",
      "source": [
        "### **1. Why did you pick the specific chart?**  \n",
        "A **correlation heatmap** is used to visualize the **relationships between numerical features** in the dataset. It helps to identify **strong positive or negative correlations** that could be useful for decision-making.  \n",
        "\n",
        "### **2. What is/are the insight(s) found from the chart?**  \n",
        "- **Min Salary, Max Salary, and Avg Salary** are **highly correlated** with each other (**expected behavior**).  \n",
        "- **Company Rating and Salary** have a **weak correlation**, suggesting that **higher-rated companies do not always offer higher salaries**.  \n",
        "- **Company Age and Salary** have **no strong correlation**, indicating that **older companies do not necessarily pay better salaries**.  \n",
        "- **There is no multicollinearity issue**, as most correlations are **moderate or low** (except for Min-Max Salary).  \n",
        "\n",
        "### **3. Will the gained insights help create a positive business impact? Are there any insights that lead to negative growth? Justify with a specific reason.**  \n",
        "- **Positive Impact:**  \n",
        "  - Helps **focus on key factors** that impact salaries.  \n",
        "  - Businesses can **prioritize salary improvements** based on trends.  \n",
        "  - Helps in **predictive modeling**, as we now know which variables are important.  \n",
        "- **Negative Impact:**  \n",
        "  - If **higher ratings do not correlate with higher salaries**, **companies might lose talent** if employees prioritize pay over workplace culture."
      ],
      "metadata": {
        "id": "UV0SzAkaZNRQ"
      }
    },
    {
      "cell_type": "markdown",
      "source": [
        "## **Chart - 15: Pair Plot**"
      ],
      "metadata": {
        "id": "q29F0dvdveiT"
      }
    },
    {
      "cell_type": "code",
      "source": [
        "# Pair Plot visualization code\n",
        "sns.pairplot(df[['Min Salary', 'Max Salary', 'Avg Salary', 'Rating', 'Company Age']], diag_kind='kde')\n",
        "plt.suptitle(\"Pair Plot of Numerical Features\", y=1.02)\n",
        "plt.show()"
      ],
      "metadata": {
        "id": "o58-TEIhveiU"
      },
      "execution_count": null,
      "outputs": []
    },
    {
      "cell_type": "markdown",
      "source": [
        "### **1. Why did you pick the specific chart?**  \n",
        "A **pair plot** helps visualize **relationships between multiple numerical variables** through scatter plots and histograms. It allows us to **observe distributions, correlations, and potential patterns** in the dataset.\n",
        "\n",
        "### **2. What is/are the insight(s) found from the chart?**  \n",
        "- **Min Salary, Max Salary, and Avg Salary** show a **strong linear relationship**, confirming their correlation from the heatmap.  \n",
        "- **Company Rating and Salary** do not have a clear trend, reinforcing the earlier finding that **higher-rated companies do not always pay higher salaries**.  \n",
        "- **Company Age distribution** shows a concentration of **younger companies**, meaning **many companies in the dataset are startups or relatively new**.  \n",
        "- **Salary distributions appear right-skewed**, meaning that **higher salaries are less common**, and **most jobs fall into mid-range salary levels**.  \n",
        "\n",
        "### **3. Will the gained insights help create a positive business impact? Are there any insights that lead to negative growth? Justify with a specific reason.**  \n",
        "- **Positive Impact:**  \n",
        "  - Helps in **salary prediction models**, as we now understand variable relationships better.  \n",
        "  - Businesses can use insights to **attract talent by offering competitive salaries**.  \n",
        "  - Job seekers can **identify trends** and make informed career choices.  \n",
        "- **Negative Impact:**  \n",
        "  - If **higher-rated companies do not offer higher salaries**, it may discourage potential employees from applying.  \n",
        "  - **Younger companies dominating the market** may indicate **instability**, as startups tend to have **higher failure rates**."
      ],
      "metadata": {
        "id": "EXh0U9oCveiU"
      }
    },
    {
      "cell_type": "markdown",
      "source": [
        "## ***5. Hypothesis Testing***"
      ],
      "metadata": {
        "id": "g-ATYxFrGrvw"
      }
    },
    {
      "cell_type": "markdown",
      "source": [
        "### Based on your chart experiments, define three hypothetical statements from the dataset. In the next three questions, perform hypothesis testing to obtain final conclusion about the statements through your code and statistical testing."
      ],
      "metadata": {
        "id": "Yfr_Vlr8HBkt"
      }
    },
    {
      "cell_type": "markdown",
      "source": [
        "Answer Here."
      ],
      "metadata": {
        "id": "-7MS06SUHkB-"
      }
    },
    {
      "cell_type": "markdown",
      "source": [
        "### Hypothetical Statement - 1"
      ],
      "metadata": {
        "id": "8yEUt7NnHlrM"
      }
    },
    {
      "cell_type": "markdown",
      "source": [
        "#### 1. State Your research hypothesis as a null hypothesis and alternate hypothesis."
      ],
      "metadata": {
        "id": "tEA2Xm5dHt1r"
      }
    },
    {
      "cell_type": "markdown",
      "source": [
        "Answer Here."
      ],
      "metadata": {
        "id": "HI9ZP0laH0D-"
      }
    },
    {
      "cell_type": "markdown",
      "source": [
        "#### 2. Perform an appropriate statistical test."
      ],
      "metadata": {
        "id": "I79__PHVH19G"
      }
    },
    {
      "cell_type": "code",
      "source": [
        "# Perform Statistical Test to obtain P-Value"
      ],
      "metadata": {
        "id": "oZrfquKtyian"
      },
      "execution_count": null,
      "outputs": []
    },
    {
      "cell_type": "markdown",
      "source": [
        "##### Which statistical test have you done to obtain P-Value?"
      ],
      "metadata": {
        "id": "Ou-I18pAyIpj"
      }
    },
    {
      "cell_type": "markdown",
      "source": [
        "Answer Here."
      ],
      "metadata": {
        "id": "s2U0kk00ygSB"
      }
    },
    {
      "cell_type": "markdown",
      "source": [
        "##### Why did you choose the specific statistical test?"
      ],
      "metadata": {
        "id": "fF3858GYyt-u"
      }
    },
    {
      "cell_type": "markdown",
      "source": [
        "Answer Here."
      ],
      "metadata": {
        "id": "HO4K0gP5y3B4"
      }
    },
    {
      "cell_type": "markdown",
      "source": [
        "### Hypothetical Statement - 2"
      ],
      "metadata": {
        "id": "4_0_7-oCpUZd"
      }
    },
    {
      "cell_type": "markdown",
      "source": [
        "#### 1. State Your research hypothesis as a null hypothesis and alternate hypothesis."
      ],
      "metadata": {
        "id": "hwyV_J3ipUZe"
      }
    },
    {
      "cell_type": "markdown",
      "source": [
        "Answer Here."
      ],
      "metadata": {
        "id": "FnpLGJ-4pUZe"
      }
    },
    {
      "cell_type": "markdown",
      "source": [
        "#### 2. Perform an appropriate statistical test."
      ],
      "metadata": {
        "id": "3yB-zSqbpUZe"
      }
    },
    {
      "cell_type": "code",
      "source": [
        "# Perform Statistical Test to obtain P-Value"
      ],
      "metadata": {
        "id": "sWxdNTXNpUZe"
      },
      "execution_count": null,
      "outputs": []
    },
    {
      "cell_type": "markdown",
      "source": [
        "##### Which statistical test have you done to obtain P-Value?"
      ],
      "metadata": {
        "id": "dEUvejAfpUZe"
      }
    },
    {
      "cell_type": "markdown",
      "source": [
        "Answer Here."
      ],
      "metadata": {
        "id": "oLDrPz7HpUZf"
      }
    },
    {
      "cell_type": "markdown",
      "source": [
        "##### Why did you choose the specific statistical test?"
      ],
      "metadata": {
        "id": "Fd15vwWVpUZf"
      }
    },
    {
      "cell_type": "markdown",
      "source": [
        "Answer Here."
      ],
      "metadata": {
        "id": "4xOGYyiBpUZf"
      }
    },
    {
      "cell_type": "markdown",
      "source": [
        "### Hypothetical Statement - 3"
      ],
      "metadata": {
        "id": "bn_IUdTipZyH"
      }
    },
    {
      "cell_type": "markdown",
      "source": [
        "#### 1. State Your research hypothesis as a null hypothesis and alternate hypothesis."
      ],
      "metadata": {
        "id": "49K5P_iCpZyH"
      }
    },
    {
      "cell_type": "markdown",
      "source": [
        "Answer Here."
      ],
      "metadata": {
        "id": "7gWI5rT9pZyH"
      }
    },
    {
      "cell_type": "markdown",
      "source": [
        "#### 2. Perform an appropriate statistical test."
      ],
      "metadata": {
        "id": "Nff-vKELpZyI"
      }
    },
    {
      "cell_type": "code",
      "source": [
        "# Perform Statistical Test to obtain P-Value"
      ],
      "metadata": {
        "id": "s6AnJQjtpZyI"
      },
      "execution_count": null,
      "outputs": []
    },
    {
      "cell_type": "markdown",
      "source": [
        "##### Which statistical test have you done to obtain P-Value?"
      ],
      "metadata": {
        "id": "kLW572S8pZyI"
      }
    },
    {
      "cell_type": "markdown",
      "source": [
        "Answer Here."
      ],
      "metadata": {
        "id": "ytWJ8v15pZyI"
      }
    },
    {
      "cell_type": "markdown",
      "source": [
        "##### Why did you choose the specific statistical test?"
      ],
      "metadata": {
        "id": "dWbDXHzopZyI"
      }
    },
    {
      "cell_type": "markdown",
      "source": [
        "Answer Here."
      ],
      "metadata": {
        "id": "M99G98V6pZyI"
      }
    },
    {
      "cell_type": "markdown",
      "source": [
        "## ***6. Feature Engineering & Data Pre-processing***"
      ],
      "metadata": {
        "id": "yLjJCtPM0KBk"
      }
    },
    {
      "cell_type": "markdown",
      "source": [
        "### 1. Handling Missing Values"
      ],
      "metadata": {
        "id": "xiyOF9F70UgQ"
      }
    },
    {
      "cell_type": "code",
      "source": [
        "# Handling Missing Values & Missing Value Imputation"
      ],
      "metadata": {
        "id": "iRsAHk1K0fpS"
      },
      "execution_count": null,
      "outputs": []
    },
    {
      "cell_type": "markdown",
      "source": [
        "#### What all missing value imputation techniques have you used and why did you use those techniques?"
      ],
      "metadata": {
        "id": "7wuGOrhz0itI"
      }
    },
    {
      "cell_type": "markdown",
      "source": [
        "Answer Here."
      ],
      "metadata": {
        "id": "1ixusLtI0pqI"
      }
    },
    {
      "cell_type": "markdown",
      "source": [
        "### 2. Handling Outliers"
      ],
      "metadata": {
        "id": "id1riN9m0vUs"
      }
    },
    {
      "cell_type": "code",
      "source": [
        "# Handling Outliers & Outlier treatments"
      ],
      "metadata": {
        "id": "M6w2CzZf04JK"
      },
      "execution_count": null,
      "outputs": []
    },
    {
      "cell_type": "markdown",
      "source": [
        "##### What all outlier treatment techniques have you used and why did you use those techniques?"
      ],
      "metadata": {
        "id": "578E2V7j08f6"
      }
    },
    {
      "cell_type": "markdown",
      "source": [
        "Answer Here."
      ],
      "metadata": {
        "id": "uGZz5OrT1HH-"
      }
    },
    {
      "cell_type": "markdown",
      "source": [
        "### 3. Categorical Encoding"
      ],
      "metadata": {
        "id": "89xtkJwZ18nB"
      }
    },
    {
      "cell_type": "code",
      "source": [
        "# Encode your categorical columns"
      ],
      "metadata": {
        "id": "21JmIYMG2hEo"
      },
      "execution_count": null,
      "outputs": []
    },
    {
      "cell_type": "markdown",
      "source": [
        "#### What all categorical encoding techniques have you used & why did you use those techniques?"
      ],
      "metadata": {
        "id": "67NQN5KX2AMe"
      }
    },
    {
      "cell_type": "markdown",
      "source": [
        "Answer Here."
      ],
      "metadata": {
        "id": "UDaue5h32n_G"
      }
    },
    {
      "cell_type": "markdown",
      "source": [
        "### 4. Textual Data Preprocessing\n",
        "(It's mandatory for textual dataset i.e., NLP, Sentiment Analysis, Text Clustering etc.)"
      ],
      "metadata": {
        "id": "Iwf50b-R2tYG"
      }
    },
    {
      "cell_type": "markdown",
      "source": [
        "#### 1. Expand Contraction"
      ],
      "metadata": {
        "id": "GMQiZwjn3iu7"
      }
    },
    {
      "cell_type": "code",
      "source": [
        "# Expand Contraction"
      ],
      "metadata": {
        "id": "PTouz10C3oNN"
      },
      "execution_count": null,
      "outputs": []
    },
    {
      "cell_type": "markdown",
      "source": [
        "#### 2. Lower Casing"
      ],
      "metadata": {
        "id": "WVIkgGqN3qsr"
      }
    },
    {
      "cell_type": "code",
      "source": [
        "# Lower Casing"
      ],
      "metadata": {
        "id": "88JnJ1jN3w7j"
      },
      "execution_count": null,
      "outputs": []
    },
    {
      "cell_type": "markdown",
      "source": [
        "#### 3. Removing Punctuations"
      ],
      "metadata": {
        "id": "XkPnILGE3zoT"
      }
    },
    {
      "cell_type": "code",
      "source": [
        "# Remove Punctuations"
      ],
      "metadata": {
        "id": "vqbBqNaA33c0"
      },
      "execution_count": null,
      "outputs": []
    },
    {
      "cell_type": "markdown",
      "source": [
        "#### 4. Removing URLs & Removing words and digits contain digits."
      ],
      "metadata": {
        "id": "Hlsf0x5436Go"
      }
    },
    {
      "cell_type": "code",
      "source": [
        "# Remove URLs & Remove words and digits contain digits"
      ],
      "metadata": {
        "id": "2sxKgKxu4Ip3"
      },
      "execution_count": null,
      "outputs": []
    },
    {
      "cell_type": "markdown",
      "source": [
        "#### 5. Removing Stopwords & Removing White spaces"
      ],
      "metadata": {
        "id": "mT9DMSJo4nBL"
      }
    },
    {
      "cell_type": "code",
      "source": [
        "# Remove Stopwords"
      ],
      "metadata": {
        "id": "T2LSJh154s8W"
      },
      "execution_count": null,
      "outputs": []
    },
    {
      "cell_type": "code",
      "source": [
        "# Remove White spaces"
      ],
      "metadata": {
        "id": "EgLJGffy4vm0"
      },
      "execution_count": null,
      "outputs": []
    },
    {
      "cell_type": "markdown",
      "source": [
        "#### 6. Rephrase Text"
      ],
      "metadata": {
        "id": "c49ITxTc407N"
      }
    },
    {
      "cell_type": "code",
      "source": [
        "# Rephrase Text"
      ],
      "metadata": {
        "id": "foqY80Qu48N2"
      },
      "execution_count": null,
      "outputs": []
    },
    {
      "cell_type": "markdown",
      "source": [
        "#### 7. Tokenization"
      ],
      "metadata": {
        "id": "OeJFEK0N496M"
      }
    },
    {
      "cell_type": "code",
      "source": [
        "# Tokenization"
      ],
      "metadata": {
        "id": "ijx1rUOS5CUU"
      },
      "execution_count": null,
      "outputs": []
    },
    {
      "cell_type": "markdown",
      "source": [
        "#### 8. Text Normalization"
      ],
      "metadata": {
        "id": "9ExmJH0g5HBk"
      }
    },
    {
      "cell_type": "code",
      "source": [
        "# Normalizing Text (i.e., Stemming, Lemmatization etc.)"
      ],
      "metadata": {
        "id": "AIJ1a-Zc5PY8"
      },
      "execution_count": null,
      "outputs": []
    },
    {
      "cell_type": "markdown",
      "source": [
        "##### Which text normalization technique have you used and why?"
      ],
      "metadata": {
        "id": "cJNqERVU536h"
      }
    },
    {
      "cell_type": "markdown",
      "source": [
        "Answer Here."
      ],
      "metadata": {
        "id": "Z9jKVxE06BC1"
      }
    },
    {
      "cell_type": "markdown",
      "source": [
        "#### 9. Part of speech tagging"
      ],
      "metadata": {
        "id": "k5UmGsbsOxih"
      }
    },
    {
      "cell_type": "code",
      "source": [
        "# POS Taging"
      ],
      "metadata": {
        "id": "btT3ZJBAO6Ik"
      },
      "execution_count": null,
      "outputs": []
    },
    {
      "cell_type": "markdown",
      "source": [
        "#### 10. Text Vectorization"
      ],
      "metadata": {
        "id": "T0VqWOYE6DLQ"
      }
    },
    {
      "cell_type": "code",
      "source": [
        "# Vectorizing Text"
      ],
      "metadata": {
        "id": "yBRtdhth6JDE"
      },
      "execution_count": null,
      "outputs": []
    },
    {
      "cell_type": "markdown",
      "source": [
        "##### Which text vectorization technique have you used and why?"
      ],
      "metadata": {
        "id": "qBMux9mC6MCf"
      }
    },
    {
      "cell_type": "markdown",
      "source": [
        "Answer Here."
      ],
      "metadata": {
        "id": "su2EnbCh6UKQ"
      }
    },
    {
      "cell_type": "markdown",
      "source": [
        "### 4. Feature Manipulation & Selection"
      ],
      "metadata": {
        "id": "-oLEiFgy-5Pf"
      }
    },
    {
      "cell_type": "markdown",
      "source": [
        "#### 1. Feature Manipulation"
      ],
      "metadata": {
        "id": "C74aWNz2AliB"
      }
    },
    {
      "cell_type": "code",
      "source": [
        "# Manipulate Features to minimize feature correlation and create new features"
      ],
      "metadata": {
        "id": "h1qC4yhBApWC"
      },
      "execution_count": null,
      "outputs": []
    },
    {
      "cell_type": "markdown",
      "source": [
        "#### 2. Feature Selection"
      ],
      "metadata": {
        "id": "2DejudWSA-a0"
      }
    },
    {
      "cell_type": "code",
      "source": [
        "# Select your features wisely to avoid overfitting"
      ],
      "metadata": {
        "id": "YLhe8UmaBCEE"
      },
      "execution_count": null,
      "outputs": []
    },
    {
      "cell_type": "markdown",
      "source": [
        "##### What all feature selection methods have you used  and why?"
      ],
      "metadata": {
        "id": "pEMng2IbBLp7"
      }
    },
    {
      "cell_type": "markdown",
      "source": [
        "Answer Here."
      ],
      "metadata": {
        "id": "rb2Lh6Z8BgGs"
      }
    },
    {
      "cell_type": "markdown",
      "source": [
        "##### Which all features you found important and why?"
      ],
      "metadata": {
        "id": "rAdphbQ9Bhjc"
      }
    },
    {
      "cell_type": "markdown",
      "source": [
        "Answer Here."
      ],
      "metadata": {
        "id": "fGgaEstsBnaf"
      }
    },
    {
      "cell_type": "markdown",
      "source": [
        "### 5. Data Transformation"
      ],
      "metadata": {
        "id": "TNVZ9zx19K6k"
      }
    },
    {
      "cell_type": "markdown",
      "source": [
        "#### Do you think that your data needs to be transformed? If yes, which transformation have you used. Explain Why?"
      ],
      "metadata": {
        "id": "nqoHp30x9hH9"
      }
    },
    {
      "cell_type": "code",
      "source": [
        "# Transform Your data"
      ],
      "metadata": {
        "id": "I6quWQ1T9rtH"
      },
      "execution_count": null,
      "outputs": []
    },
    {
      "cell_type": "markdown",
      "source": [
        "### 6. Data Scaling"
      ],
      "metadata": {
        "id": "rMDnDkt2B6du"
      }
    },
    {
      "cell_type": "code",
      "source": [
        "# Scaling your data"
      ],
      "metadata": {
        "id": "dL9LWpySC6x_"
      },
      "execution_count": null,
      "outputs": []
    },
    {
      "cell_type": "markdown",
      "source": [
        "##### Which method have you used to scale you data and why?"
      ],
      "metadata": {
        "id": "yiiVWRdJDDil"
      }
    },
    {
      "cell_type": "markdown",
      "source": [
        "### 7. Dimesionality Reduction"
      ],
      "metadata": {
        "id": "1UUpS68QDMuG"
      }
    },
    {
      "cell_type": "markdown",
      "source": [
        "##### Do you think that dimensionality reduction is needed? Explain Why?"
      ],
      "metadata": {
        "id": "kexQrXU-DjzY"
      }
    },
    {
      "cell_type": "markdown",
      "source": [
        "Answer Here."
      ],
      "metadata": {
        "id": "GGRlBsSGDtTQ"
      }
    },
    {
      "cell_type": "code",
      "source": [
        "# DImensionality Reduction (If needed)"
      ],
      "metadata": {
        "id": "kQfvxBBHDvCa"
      },
      "execution_count": null,
      "outputs": []
    },
    {
      "cell_type": "markdown",
      "source": [
        "##### Which dimensionality reduction technique have you used and why? (If dimensionality reduction done on dataset.)"
      ],
      "metadata": {
        "id": "T5CmagL3EC8N"
      }
    },
    {
      "cell_type": "markdown",
      "source": [
        "Answer Here."
      ],
      "metadata": {
        "id": "ZKr75IDuEM7t"
      }
    },
    {
      "cell_type": "markdown",
      "source": [
        "### 8. Data Splitting"
      ],
      "metadata": {
        "id": "BhH2vgX9EjGr"
      }
    },
    {
      "cell_type": "code",
      "source": [
        "# Split your data to train and test. Choose Splitting ratio wisely."
      ],
      "metadata": {
        "id": "0CTyd2UwEyNM"
      },
      "execution_count": null,
      "outputs": []
    },
    {
      "cell_type": "markdown",
      "source": [
        "##### What data splitting ratio have you used and why?"
      ],
      "metadata": {
        "id": "qjKvONjwE8ra"
      }
    },
    {
      "cell_type": "markdown",
      "source": [
        "Answer Here."
      ],
      "metadata": {
        "id": "Y2lJ8cobFDb_"
      }
    },
    {
      "cell_type": "markdown",
      "source": [
        "### 9. Handling Imbalanced Dataset"
      ],
      "metadata": {
        "id": "P1XJ9OREExlT"
      }
    },
    {
      "cell_type": "markdown",
      "source": [
        "##### Do you think the dataset is imbalanced? Explain Why."
      ],
      "metadata": {
        "id": "VFOzZv6IFROw"
      }
    },
    {
      "cell_type": "markdown",
      "source": [
        "Answer Here."
      ],
      "metadata": {
        "id": "GeKDIv7pFgcC"
      }
    },
    {
      "cell_type": "code",
      "source": [
        "# Handling Imbalanced Dataset (If needed)"
      ],
      "metadata": {
        "id": "nQsRhhZLFiDs"
      },
      "execution_count": null,
      "outputs": []
    },
    {
      "cell_type": "markdown",
      "source": [
        "##### What technique did you use to handle the imbalance dataset and why? (If needed to be balanced)"
      ],
      "metadata": {
        "id": "TIqpNgepFxVj"
      }
    },
    {
      "cell_type": "markdown",
      "source": [
        "Answer Here."
      ],
      "metadata": {
        "id": "qbet1HwdGDTz"
      }
    },
    {
      "cell_type": "markdown",
      "source": [
        "## ***7. ML Model Implementation***"
      ],
      "metadata": {
        "id": "VfCC591jGiD4"
      }
    },
    {
      "cell_type": "markdown",
      "source": [
        "### ML Model - 1"
      ],
      "metadata": {
        "id": "OB4l2ZhMeS1U"
      }
    },
    {
      "cell_type": "code",
      "source": [
        "# ML Model - 1 Implementation\n",
        "\n",
        "# Fit the Algorithm\n",
        "\n",
        "# Predict on the model"
      ],
      "metadata": {
        "id": "7ebyywQieS1U"
      },
      "execution_count": null,
      "outputs": []
    },
    {
      "cell_type": "markdown",
      "source": [
        "#### 1. Explain the ML Model used and it's performance using Evaluation metric Score Chart."
      ],
      "metadata": {
        "id": "ArJBuiUVfxKd"
      }
    },
    {
      "cell_type": "code",
      "source": [
        "# Visualizing evaluation Metric Score chart"
      ],
      "metadata": {
        "id": "rqD5ZohzfxKe"
      },
      "execution_count": null,
      "outputs": []
    },
    {
      "cell_type": "markdown",
      "source": [
        "#### 2. Cross- Validation & Hyperparameter Tuning"
      ],
      "metadata": {
        "id": "4qY1EAkEfxKe"
      }
    },
    {
      "cell_type": "code",
      "source": [
        "# ML Model - 1 Implementation with hyperparameter optimization techniques (i.e., GridSearch CV, RandomSearch CV, Bayesian Optimization etc.)\n",
        "\n",
        "# Fit the Algorithm\n",
        "\n",
        "# Predict on the model"
      ],
      "metadata": {
        "id": "Dy61ujd6fxKe"
      },
      "execution_count": null,
      "outputs": []
    },
    {
      "cell_type": "markdown",
      "source": [
        "##### Which hyperparameter optimization technique have you used and why?"
      ],
      "metadata": {
        "id": "PiV4Ypx8fxKe"
      }
    },
    {
      "cell_type": "markdown",
      "source": [
        "Answer Here."
      ],
      "metadata": {
        "id": "negyGRa7fxKf"
      }
    },
    {
      "cell_type": "markdown",
      "source": [
        "##### Have you seen any improvement? Note down the improvement with updates Evaluation metric Score Chart."
      ],
      "metadata": {
        "id": "TfvqoZmBfxKf"
      }
    },
    {
      "cell_type": "markdown",
      "source": [
        "Answer Here."
      ],
      "metadata": {
        "id": "OaLui8CcfxKf"
      }
    },
    {
      "cell_type": "markdown",
      "source": [
        "### ML Model - 2"
      ],
      "metadata": {
        "id": "dJ2tPlVmpsJ0"
      }
    },
    {
      "cell_type": "markdown",
      "source": [
        "#### 1. Explain the ML Model used and it's performance using Evaluation metric Score Chart."
      ],
      "metadata": {
        "id": "JWYfwnehpsJ1"
      }
    },
    {
      "cell_type": "code",
      "source": [
        "# Visualizing evaluation Metric Score chart"
      ],
      "metadata": {
        "id": "yEl-hgQWpsJ1"
      },
      "execution_count": null,
      "outputs": []
    },
    {
      "cell_type": "markdown",
      "source": [
        "#### 2. Cross- Validation & Hyperparameter Tuning"
      ],
      "metadata": {
        "id": "-jK_YjpMpsJ2"
      }
    },
    {
      "cell_type": "code",
      "source": [
        "# ML Model - 1 Implementation with hyperparameter optimization techniques (i.e., GridSearch CV, RandomSearch CV, Bayesian Optimization etc.)\n",
        "\n",
        "# Fit the Algorithm\n",
        "\n",
        "# Predict on the model"
      ],
      "metadata": {
        "id": "Dn0EOfS6psJ2"
      },
      "execution_count": null,
      "outputs": []
    },
    {
      "cell_type": "markdown",
      "source": [
        "##### Which hyperparameter optimization technique have you used and why?"
      ],
      "metadata": {
        "id": "HAih1iBOpsJ2"
      }
    },
    {
      "cell_type": "markdown",
      "source": [
        "Answer Here."
      ],
      "metadata": {
        "id": "9kBgjYcdpsJ2"
      }
    },
    {
      "cell_type": "markdown",
      "source": [
        "##### Have you seen any improvement? Note down the improvement with updates Evaluation metric Score Chart."
      ],
      "metadata": {
        "id": "zVGeBEFhpsJ2"
      }
    },
    {
      "cell_type": "markdown",
      "source": [
        "Answer Here."
      ],
      "metadata": {
        "id": "74yRdG6UpsJ3"
      }
    },
    {
      "cell_type": "markdown",
      "source": [
        "#### 3. Explain each evaluation metric's indication towards business and the business impact pf the ML model used."
      ],
      "metadata": {
        "id": "bmKjuQ-FpsJ3"
      }
    },
    {
      "cell_type": "markdown",
      "source": [
        "Answer Here."
      ],
      "metadata": {
        "id": "BDKtOrBQpsJ3"
      }
    },
    {
      "cell_type": "markdown",
      "source": [
        "### ML Model - 3"
      ],
      "metadata": {
        "id": "Fze-IPXLpx6K"
      }
    },
    {
      "cell_type": "code",
      "source": [
        "# ML Model - 3 Implementation\n",
        "\n",
        "# Fit the Algorithm\n",
        "\n",
        "# Predict on the model"
      ],
      "metadata": {
        "id": "FFrSXAtrpx6M"
      },
      "execution_count": null,
      "outputs": []
    },
    {
      "cell_type": "markdown",
      "source": [
        "#### 1. Explain the ML Model used and it's performance using Evaluation metric Score Chart."
      ],
      "metadata": {
        "id": "7AN1z2sKpx6M"
      }
    },
    {
      "cell_type": "code",
      "source": [
        "# Visualizing evaluation Metric Score chart"
      ],
      "metadata": {
        "id": "xIY4lxxGpx6M"
      },
      "execution_count": null,
      "outputs": []
    },
    {
      "cell_type": "markdown",
      "source": [
        "#### 2. Cross- Validation & Hyperparameter Tuning"
      ],
      "metadata": {
        "id": "9PIHJqyupx6M"
      }
    },
    {
      "cell_type": "code",
      "source": [
        "# ML Model - 3 Implementation with hyperparameter optimization techniques (i.e., GridSearch CV, RandomSearch CV, Bayesian Optimization etc.)\n",
        "\n",
        "# Fit the Algorithm\n",
        "\n",
        "# Predict on the model"
      ],
      "metadata": {
        "id": "eSVXuaSKpx6M"
      },
      "execution_count": null,
      "outputs": []
    },
    {
      "cell_type": "markdown",
      "source": [
        "##### Which hyperparameter optimization technique have you used and why?"
      ],
      "metadata": {
        "id": "_-qAgymDpx6N"
      }
    },
    {
      "cell_type": "markdown",
      "source": [
        "Answer Here."
      ],
      "metadata": {
        "id": "lQMffxkwpx6N"
      }
    },
    {
      "cell_type": "markdown",
      "source": [
        "##### Have you seen any improvement? Note down the improvement with updates Evaluation metric Score Chart."
      ],
      "metadata": {
        "id": "Z-hykwinpx6N"
      }
    },
    {
      "cell_type": "markdown",
      "source": [
        "Answer Here."
      ],
      "metadata": {
        "id": "MzVzZC6opx6N"
      }
    },
    {
      "cell_type": "markdown",
      "source": [
        "### 1. Which Evaluation metrics did you consider for a positive business impact and why?"
      ],
      "metadata": {
        "id": "h_CCil-SKHpo"
      }
    },
    {
      "cell_type": "markdown",
      "source": [
        "Answer Here."
      ],
      "metadata": {
        "id": "jHVz9hHDKFms"
      }
    },
    {
      "cell_type": "markdown",
      "source": [
        "### 2. Which ML model did you choose from the above created models as your final prediction model and why?"
      ],
      "metadata": {
        "id": "cBFFvTBNJzUa"
      }
    },
    {
      "cell_type": "markdown",
      "source": [
        "Answer Here."
      ],
      "metadata": {
        "id": "6ksF5Q1LKTVm"
      }
    },
    {
      "cell_type": "markdown",
      "source": [
        "### 3. Explain the model which you have used and the feature importance using any model explainability tool?"
      ],
      "metadata": {
        "id": "HvGl1hHyA_VK"
      }
    },
    {
      "cell_type": "markdown",
      "source": [
        "Answer Here."
      ],
      "metadata": {
        "id": "YnvVTiIxBL-C"
      }
    },
    {
      "cell_type": "markdown",
      "source": [
        "## ***8.*** ***Future Work (Optional)***"
      ],
      "metadata": {
        "id": "EyNgTHvd2WFk"
      }
    },
    {
      "cell_type": "markdown",
      "source": [
        "### 1. Save the best performing ml model in a pickle file or joblib file format for deployment process.\n"
      ],
      "metadata": {
        "id": "KH5McJBi2d8v"
      }
    },
    {
      "cell_type": "code",
      "source": [
        "# Save the File"
      ],
      "metadata": {
        "id": "bQIANRl32f4J"
      },
      "execution_count": null,
      "outputs": []
    },
    {
      "cell_type": "markdown",
      "source": [
        "### 2. Again Load the saved model file and try to predict unseen data for a sanity check.\n"
      ],
      "metadata": {
        "id": "iW_Lq9qf2h6X"
      }
    },
    {
      "cell_type": "code",
      "source": [
        "# Load the File and predict unseen data."
      ],
      "metadata": {
        "id": "oEXk9ydD2nVC"
      },
      "execution_count": null,
      "outputs": []
    },
    {
      "cell_type": "markdown",
      "source": [
        "### ***Congrats! Your model is successfully created and ready for deployment on a live server for a real user interaction !!!***"
      ],
      "metadata": {
        "id": "-Kee-DAl2viO"
      }
    },
    {
      "cell_type": "markdown",
      "source": [
        "# **Conclusion**"
      ],
      "metadata": {
        "id": "gCX9965dhzqZ"
      }
    },
    {
      "cell_type": "markdown",
      "source": [
        "Write the conclusion here."
      ],
      "metadata": {
        "id": "Fjb1IsQkh3yE"
      }
    },
    {
      "cell_type": "markdown",
      "source": [
        "### ***Hurrah! You have successfully completed your Machine Learning Capstone Project !!!***"
      ],
      "metadata": {
        "id": "gIfDvo9L0UH2"
      }
    }
  ]
}